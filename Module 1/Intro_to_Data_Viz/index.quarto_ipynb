{
  "cells": [
    {
      "cell_type": "markdown",
      "metadata": {},
      "source": [
        "---\n",
        "title: \"Introduction to Data Visualization\"\n",
        "#format: revealjs\n",
        "#editor: visual\n",
        "filters: \n",
        "  - webr\n",
        "---\n",
        "\n",
        "\n",
        "## Quarto\n",
        "\n",
        "Quarto enables you to weave together content and executable code into a finished presentation. To learn more about Quarto presentations see <https://quarto.org/docs/presentations/>.\n",
        "\n",
        "\n",
        "\n",
        "\n",
        "```{webr}\n",
        "1 + 1\n",
        "```"
      ],
      "id": "0ad5aed7"
    }
  ],
  "metadata": {
    "kernelspec": {
      "display_name": "Python 3",
      "language": "python",
      "name": "python3"
    }
  },
  "nbformat": 4,
  "nbformat_minor": 5
}